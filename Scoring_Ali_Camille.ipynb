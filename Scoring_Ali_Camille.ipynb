{
 "cells": [
  {
   "cell_type": "markdown",
   "metadata": {},
   "source": [
    "# Application marketing"
   ]
  },
  {
   "cell_type": "markdown",
   "metadata": {},
   "source": [
    "## Objectif :"
   ]
  },
  {
   "cell_type": "markdown",
   "metadata": {},
   "source": [
    "Dans ce projet, nous tenterons de créer une combinaison de scores représentant la présence de dispositifs d'aide aux personnes à mobilité réduite dans les gares SNCF et d'une autre source de donnée les informations sur la population environnante.\n",
    "\n",
    "\n",
    "\n",
    "\n"
   ]
  },
  {
   "cell_type": "markdown",
   "metadata": {},
   "source": [
    "Pour cela nous allons analyser ces données et les traiter de sorte à en extirper ce dont nous avons besoin."
   ]
  },
  {
   "cell_type": "markdown",
   "metadata": {},
   "source": [
    "## 1.1 Import des packages"
   ]
  },
  {
   "cell_type": "markdown",
   "metadata": {},
   "source": [
    "L'uilisation de certains packages nous facilitent les traitement tel que sklearn, pandas et numpy seront nos outils d'extraction et de manipulation des données.\n",
    "Nous aurons également besoin de packages pour les représentations graphiques."
   ]
  },
  {
   "cell_type": "code",
   "execution_count": 1,
   "metadata": {},
   "outputs": [
    {
     "name": "stderr",
     "output_type": "stream",
     "text": [
      "/opt/conda/lib/python3.6/site-packages/sklearn/ensemble/weight_boosting.py:29: DeprecationWarning: numpy.core.umath_tests is an internal NumPy module and should not be imported. It will be removed in a future NumPy release.\n",
      "  from numpy.core.umath_tests import inner1d\n"
     ]
    }
   ],
   "source": [
    "%matplotlib inline\n",
    "import seaborn as sns\n",
    "import matplotlib.pyplot as plt\n",
    "import numpy as np \n",
    "import pandas as pd\n",
    "from sklearn.preprocessing import StandardScaler\n",
    "from sklearn.metrics import classification_report, confusion_matrix, accuracy_score\n",
    "from sklearn.ensemble import RandomForestClassifier\n",
    "from sklearn.model_selection import GridSearchCV\n"
   ]
  },
  {
   "cell_type": "markdown",
   "metadata": {},
   "source": [
    "## 1.2 Les données"
   ]
  },
  {
   "cell_type": "code",
   "execution_count": 2,
   "metadata": {},
   "outputs": [],
   "source": [
    "# SNCF\n",
    "base_gares = pd.read_csv('sncf/base_gares.csv',sep = ';')\n",
    "sncf_adresse = pd.read_csv('sncf/sncf-gares-et-arrets-transilien-ile-de-france.csv',sep = ';')\n",
    "sncf_equipements = pd.read_csv('sncf/sncf-accessibilite-des-gares-equipements.csv',sep = ';').replace(\"Pas de CAB\",0).fillna(0)\n",
    "sncf_arret = pd.read_csv('sncf/lignes_points_arret.csv', sep = ';')\n",
    "\n",
    "#INSEE\n",
    "insee_pop = pd.read_csv('Insee/insee_pop_2011.csv', sep = ';', low_memory = False, encoding = 'iso8859-1')#, dtype = {'CODGEO': str }\n",
    "effectifs_etablissements = pd.read_csv('Insee/effectifs_etablissements_com.csv', sep = ';', encoding = 'iso8859-1')"
   ]
  },
  {
   "cell_type": "markdown",
   "metadata": {},
   "source": [
    "Séléction des colonnes pour les données SNCF :"
   ]
  },
  {
   "cell_type": "code",
   "execution_count": 3,
   "metadata": {},
   "outputs": [],
   "source": [
    "BASES = base_gares.iloc[:,[0,1,3]]\n",
    "ADRESSE = sncf_adresse.iloc[:,[0,7]]\n",
    "EQUIPEMENT = sncf_equipements.iloc[:,[0]]\n",
    "ARRET = sncf_arret.iloc[:,[0]]"
   ]
  },
  {
   "cell_type": "markdown",
   "metadata": {},
   "source": [
    "Les derniéres colonnes de la table sncf_equipements ont différents ordres de grandeur, ce qui serait interessant de faire est de centrer et réduire nos données.\n",
    "Sklearn nous permet de faire ça :"
   ]
  },
  {
   "cell_type": "code",
   "execution_count": 4,
   "metadata": {},
   "outputs": [],
   "source": [
    "architecture = sncf_equipements.iloc[:,7:9]\n",
    "scaler = StandardScaler()\n",
    "scaler.fit(architecture)\n",
    "architecture = scaler.transform(architecture)"
   ]
  },
  {
   "cell_type": "markdown",
   "metadata": {},
   "source": [
    "On crée les indicateurs suivant en sommant leur répartition pour les différents champs choisis."
   ]
  },
  {
   "cell_type": "code",
   "execution_count": 5,
   "metadata": {},
   "outputs": [
    {
     "name": "stderr",
     "output_type": "stream",
     "text": [
      "/opt/conda/lib/python3.6/site-packages/ipykernel_launcher.py:2: SettingWithCopyWarning: \n",
      "A value is trying to be set on a copy of a slice from a DataFrame.\n",
      "Try using .loc[row_indexer,col_indexer] = value instead\n",
      "\n",
      "See the caveats in the documentation: https://pandas.pydata.org/pandas-docs/stable/user_guide/indexing.html#returning-a-view-versus-a-copy\n",
      "  \n",
      "/opt/conda/lib/python3.6/site-packages/ipykernel_launcher.py:4: SettingWithCopyWarning: \n",
      "A value is trying to be set on a copy of a slice from a DataFrame.\n",
      "Try using .loc[row_indexer,col_indexer] = value instead\n",
      "\n",
      "See the caveats in the documentation: https://pandas.pydata.org/pandas-docs/stable/user_guide/indexing.html#returning-a-view-versus-a-copy\n",
      "  after removing the cwd from sys.path.\n",
      "/opt/conda/lib/python3.6/site-packages/ipykernel_launcher.py:6: SettingWithCopyWarning: \n",
      "A value is trying to be set on a copy of a slice from a DataFrame.\n",
      "Try using .loc[row_indexer,col_indexer] = value instead\n",
      "\n",
      "See the caveats in the documentation: https://pandas.pydata.org/pandas-docs/stable/user_guide/indexing.html#returning-a-view-versus-a-copy\n",
      "  \n",
      "/opt/conda/lib/python3.6/site-packages/ipykernel_launcher.py:8: SettingWithCopyWarning: \n",
      "A value is trying to be set on a copy of a slice from a DataFrame.\n",
      "Try using .loc[row_indexer,col_indexer] = value instead\n",
      "\n",
      "See the caveats in the documentation: https://pandas.pydata.org/pandas-docs/stable/user_guide/indexing.html#returning-a-view-versus-a-copy\n",
      "  \n"
     ]
    }
   ],
   "source": [
    "#Nombre d'équipement d'aide aux personnes à mobilité réduite :\n",
    "EQUIPEMENT['Nb_equipemt'] = np.sum(sncf_equipements.iloc[:,2:6], axis =1)\n",
    "#Dispositifs architecturaux de la gare :\n",
    "EQUIPEMENT['Type_Achi'] = np.sum(architecture, axis =1)\n",
    "#Nombre de lignes de transports par gare :\n",
    "ARRET['Nb_Lignes'] = np.sum(sncf_arret.iloc[:,6:21], axis =1)\n",
    "#Nombre de types de moyens de transport :\n",
    "ARRET['Nb_Moy_Transp'] = np.sum(sncf_arret.iloc[:,2:5], axis =1)"
   ]
  },
  {
   "cell_type": "markdown",
   "metadata": {},
   "source": [
    "Même traitement pour les tables INSEE."
   ]
  },
  {
   "cell_type": "code",
   "execution_count": 6,
   "metadata": {},
   "outputs": [],
   "source": [
    "INSEEPOP = insee_pop.iloc[:,[0,6,7]]\n",
    "INSEESAL = effectifs_etablissements.iloc[:,[0]].fillna(0)\n",
    "#Nombre de salariés par commune :\n",
    "INSEESAL['Salarie'] = np.sum(effectifs_etablissements.loc[:,'EFFECTIF_AZ':'EFFECTIF_OQ'].fillna(0), axis =1)\n",
    "#Ratio du nombre de salariés sur l'effectif de la population en 2006 et en 2011 :\n",
    "ratio_emp06 = INSEESAL['Salarie'] / INSEEPOP['P06_POP']\n",
    "ratio_emp11 = INSEESAL['Salarie'] / INSEEPOP['P11_POP']\n",
    "\n",
    "alpha = ratio_emp06/ratio_emp11\n",
    "beta = alpha.sum() / len(alpha)\n",
    "#On constate que nos indicateurs sont sensiblement égaux,\n",
    "#nous obtenons un rapport des deux proche de 1.\n",
    "#On choisira pour la suite la population de 2011."
   ]
  },
  {
   "cell_type": "markdown",
   "metadata": {},
   "source": [
    "## 1.3 Les jointures"
   ]
  },
  {
   "cell_type": "markdown",
   "metadata": {},
   "source": [
    "On joint les tables SNCF et nos indicateurs."
   ]
  },
  {
   "cell_type": "code",
   "execution_count": 8,
   "metadata": {},
   "outputs": [
    {
     "data": {
      "text/html": [
       "<div>\n",
       "<style scoped>\n",
       "    .dataframe tbody tr th:only-of-type {\n",
       "        vertical-align: middle;\n",
       "    }\n",
       "\n",
       "    .dataframe tbody tr th {\n",
       "        vertical-align: top;\n",
       "    }\n",
       "\n",
       "    .dataframe thead th {\n",
       "        text-align: right;\n",
       "    }\n",
       "</style>\n",
       "<table border=\"1\" class=\"dataframe\">\n",
       "  <thead>\n",
       "    <tr style=\"text-align: right;\">\n",
       "      <th></th>\n",
       "      <th>code_uic</th>\n",
       "      <th>Partitionner</th>\n",
       "      <th>nb_voy</th>\n",
       "      <th>code_insee_commune</th>\n",
       "      <th>Nb_equipemt</th>\n",
       "      <th>Type_Achi</th>\n",
       "      <th>Nb_Lignes</th>\n",
       "      <th>Nb_Moy_Transp</th>\n",
       "    </tr>\n",
       "  </thead>\n",
       "  <tbody>\n",
       "    <tr>\n",
       "      <th>0</th>\n",
       "      <td>87001479</td>\n",
       "      <td>1-Apprentissage</td>\n",
       "      <td>4</td>\n",
       "      <td>93073</td>\n",
       "      <td>3.0</td>\n",
       "      <td>2.807353</td>\n",
       "      <td>1.0</td>\n",
       "      <td>1.0</td>\n",
       "    </tr>\n",
       "    <tr>\n",
       "      <th>1</th>\n",
       "      <td>87111278</td>\n",
       "      <td>2-Test</td>\n",
       "      <td>4</td>\n",
       "      <td>75117</td>\n",
       "      <td>3.0</td>\n",
       "      <td>3.658109</td>\n",
       "      <td>1.0</td>\n",
       "      <td>1.0</td>\n",
       "    </tr>\n",
       "    <tr>\n",
       "      <th>2</th>\n",
       "      <td>87113001</td>\n",
       "      <td>1-Apprentissage</td>\n",
       "      <td>5</td>\n",
       "      <td>75110</td>\n",
       "      <td>3.0</td>\n",
       "      <td>3.384720</td>\n",
       "      <td>1.0</td>\n",
       "      <td>1.0</td>\n",
       "    </tr>\n",
       "    <tr>\n",
       "      <th>3</th>\n",
       "      <td>87113209</td>\n",
       "      <td>1-Apprentissage</td>\n",
       "      <td>4</td>\n",
       "      <td>93055</td>\n",
       "      <td>3.0</td>\n",
       "      <td>-0.899646</td>\n",
       "      <td>1.0</td>\n",
       "      <td>1.0</td>\n",
       "    </tr>\n",
       "    <tr>\n",
       "      <th>4</th>\n",
       "      <td>87113217</td>\n",
       "      <td>1-Apprentissage</td>\n",
       "      <td>5</td>\n",
       "      <td>93053</td>\n",
       "      <td>4.0</td>\n",
       "      <td>4.204887</td>\n",
       "      <td>1.0</td>\n",
       "      <td>2.0</td>\n",
       "    </tr>\n",
       "  </tbody>\n",
       "</table>\n",
       "</div>"
      ],
      "text/plain": [
       "   code_uic     Partitionner  nb_voy code_insee_commune  Nb_equipemt  \\\n",
       "0  87001479  1-Apprentissage       4              93073          3.0   \n",
       "1  87111278           2-Test       4              75117          3.0   \n",
       "2  87113001  1-Apprentissage       5              75110          3.0   \n",
       "3  87113209  1-Apprentissage       4              93055          3.0   \n",
       "4  87113217  1-Apprentissage       5              93053          4.0   \n",
       "\n",
       "   Type_Achi  Nb_Lignes  Nb_Moy_Transp  \n",
       "0   2.807353        1.0            1.0  \n",
       "1   3.658109        1.0            1.0  \n",
       "2   3.384720        1.0            1.0  \n",
       "3  -0.899646        1.0            1.0  \n",
       "4   4.204887        1.0            2.0  "
      ]
     },
     "execution_count": 8,
     "metadata": {},
     "output_type": "execute_result"
    }
   ],
   "source": [
    "JOIN1 = BASES.merge(ADRESSE, how='left',on='code_uic')\n",
    "JOIN2 = JOIN1.merge(EQUIPEMENT, how='left',on='code_uic')\n",
    "JOIN3 = JOIN2.merge(ARRET, how='left',on='code_uic')\n",
    "JOIN3 = JOIN3.fillna(0)\n",
    "JOIN3['code_insee_commune'] = JOIN3['code_insee_commune'].astype(str)\n",
    "JOIN3.head()"
   ]
  },
  {
   "cell_type": "markdown",
   "metadata": {},
   "source": [
    "Création de la table finale INSEE."
   ]
  },
  {
   "cell_type": "code",
   "execution_count": 9,
   "metadata": {},
   "outputs": [],
   "source": [
    "INSEE =  INSEEPOP.merge(INSEESAL, how='right',left_on='CODGEO', right_on='COM')\n",
    "INSEE['ratio_emp']=ratio_emp11\n",
    "INSEE = INSEE.drop(['P06_POP','COM'], axis = 1)\n",
    "INSEE = INSEE.rename(columns={'CODGEO':'code_insee_commune'})"
   ]
  },
  {
   "cell_type": "markdown",
   "metadata": {},
   "source": [
    "Jointure finale :"
   ]
  },
  {
   "cell_type": "code",
   "execution_count": 10,
   "metadata": {},
   "outputs": [
    {
     "data": {
      "text/html": [
       "<div>\n",
       "<style scoped>\n",
       "    .dataframe tbody tr th:only-of-type {\n",
       "        vertical-align: middle;\n",
       "    }\n",
       "\n",
       "    .dataframe tbody tr th {\n",
       "        vertical-align: top;\n",
       "    }\n",
       "\n",
       "    .dataframe thead th {\n",
       "        text-align: right;\n",
       "    }\n",
       "</style>\n",
       "<table border=\"1\" class=\"dataframe\">\n",
       "  <thead>\n",
       "    <tr style=\"text-align: right;\">\n",
       "      <th></th>\n",
       "      <th>code_uic</th>\n",
       "      <th>Partitionner</th>\n",
       "      <th>nb_voy</th>\n",
       "      <th>code_insee_commune</th>\n",
       "      <th>Nb_equipemt</th>\n",
       "      <th>Type_Achi</th>\n",
       "      <th>Nb_Lignes</th>\n",
       "      <th>Nb_Moy_Transp</th>\n",
       "      <th>P11_POP</th>\n",
       "      <th>Salarie</th>\n",
       "      <th>ratio_emp</th>\n",
       "    </tr>\n",
       "  </thead>\n",
       "  <tbody>\n",
       "    <tr>\n",
       "      <th>0</th>\n",
       "      <td>87001479</td>\n",
       "      <td>1-Apprentissage</td>\n",
       "      <td>4</td>\n",
       "      <td>93073</td>\n",
       "      <td>3.0</td>\n",
       "      <td>2.807353</td>\n",
       "      <td>1.0</td>\n",
       "      <td>1.0</td>\n",
       "      <td>34452.0</td>\n",
       "      <td>40120</td>\n",
       "      <td>2.219640</td>\n",
       "    </tr>\n",
       "    <tr>\n",
       "      <th>1</th>\n",
       "      <td>87111278</td>\n",
       "      <td>2-Test</td>\n",
       "      <td>4</td>\n",
       "      <td>75117</td>\n",
       "      <td>3.0</td>\n",
       "      <td>3.658109</td>\n",
       "      <td>1.0</td>\n",
       "      <td>1.0</td>\n",
       "      <td>170174.0</td>\n",
       "      <td>92994</td>\n",
       "      <td>0.546464</td>\n",
       "    </tr>\n",
       "    <tr>\n",
       "      <th>2</th>\n",
       "      <td>87113001</td>\n",
       "      <td>1-Apprentissage</td>\n",
       "      <td>5</td>\n",
       "      <td>75110</td>\n",
       "      <td>3.0</td>\n",
       "      <td>3.384720</td>\n",
       "      <td>1.0</td>\n",
       "      <td>1.0</td>\n",
       "      <td>94027.0</td>\n",
       "      <td>73293</td>\n",
       "      <td>0.779489</td>\n",
       "    </tr>\n",
       "    <tr>\n",
       "      <th>3</th>\n",
       "      <td>87113209</td>\n",
       "      <td>1-Apprentissage</td>\n",
       "      <td>4</td>\n",
       "      <td>93055</td>\n",
       "      <td>3.0</td>\n",
       "      <td>-0.899646</td>\n",
       "      <td>1.0</td>\n",
       "      <td>1.0</td>\n",
       "      <td>53797.0</td>\n",
       "      <td>26302</td>\n",
       "      <td>1.168718</td>\n",
       "    </tr>\n",
       "    <tr>\n",
       "      <th>4</th>\n",
       "      <td>87113217</td>\n",
       "      <td>1-Apprentissage</td>\n",
       "      <td>5</td>\n",
       "      <td>93053</td>\n",
       "      <td>4.0</td>\n",
       "      <td>4.204887</td>\n",
       "      <td>1.0</td>\n",
       "      <td>2.0</td>\n",
       "      <td>40232.0</td>\n",
       "      <td>9428</td>\n",
       "      <td>1.339775</td>\n",
       "    </tr>\n",
       "    <tr>\n",
       "      <th>5</th>\n",
       "      <td>87113407</td>\n",
       "      <td>1-Apprentissage</td>\n",
       "      <td>5</td>\n",
       "      <td>93010</td>\n",
       "      <td>3.0</td>\n",
       "      <td>5.359619</td>\n",
       "      <td>2.0</td>\n",
       "      <td>2.0</td>\n",
       "      <td>53051.0</td>\n",
       "      <td>12048</td>\n",
       "      <td>1.398978</td>\n",
       "    </tr>\n",
       "  </tbody>\n",
       "</table>\n",
       "</div>"
      ],
      "text/plain": [
       "   code_uic     Partitionner  nb_voy code_insee_commune  Nb_equipemt  \\\n",
       "0  87001479  1-Apprentissage       4              93073          3.0   \n",
       "1  87111278           2-Test       4              75117          3.0   \n",
       "2  87113001  1-Apprentissage       5              75110          3.0   \n",
       "3  87113209  1-Apprentissage       4              93055          3.0   \n",
       "4  87113217  1-Apprentissage       5              93053          4.0   \n",
       "5  87113407  1-Apprentissage       5              93010          3.0   \n",
       "\n",
       "   Type_Achi  Nb_Lignes  Nb_Moy_Transp   P11_POP  Salarie  ratio_emp  \n",
       "0   2.807353        1.0            1.0   34452.0    40120   2.219640  \n",
       "1   3.658109        1.0            1.0  170174.0    92994   0.546464  \n",
       "2   3.384720        1.0            1.0   94027.0    73293   0.779489  \n",
       "3  -0.899646        1.0            1.0   53797.0    26302   1.168718  \n",
       "4   4.204887        1.0            2.0   40232.0     9428   1.339775  \n",
       "5   5.359619        2.0            2.0   53051.0    12048   1.398978  "
      ]
     },
     "execution_count": 10,
     "metadata": {},
     "output_type": "execute_result"
    }
   ],
   "source": [
    "TOTAL = JOIN3.merge(INSEE, how = 'left',on='code_insee_commune')\n",
    "TOTAL.head(6)"
   ]
  },
  {
   "cell_type": "markdown",
   "metadata": {},
   "source": [
    "Traitement et vérification de nos données."
   ]
  },
  {
   "cell_type": "code",
   "execution_count": 11,
   "metadata": {},
   "outputs": [
    {
     "data": {
      "text/plain": [
       "code_uic         0\n",
       "Partitionner     0\n",
       "nb_voy           0\n",
       "Nb_equipemt      0\n",
       "Type_Achi        0\n",
       "Nb_Lignes        0\n",
       "Nb_Moy_Transp    0\n",
       "P11_POP          0\n",
       "Salarie          0\n",
       "ratio_emp        0\n",
       "dtype: int64"
      ]
     },
     "execution_count": 11,
     "metadata": {},
     "output_type": "execute_result"
    }
   ],
   "source": [
    "TOTAL.code_uic= TOTAL['code_uic'].astype('category')\n",
    "data = TOTAL.drop(['code_insee_commune'], axis=1)\n",
    "data.to_csv(\"fichier_sncf_pmr.csv\", index=False)\n",
    "data.isnull().sum()"
   ]
  },
  {
   "cell_type": "code",
   "execution_count": 12,
   "metadata": {},
   "outputs": [],
   "source": [
    "train = data[data['Partitionner'] == '1-Apprentissage']\n",
    "Y_train = train.nb_voy\n",
    "X_train = train.drop(['nb_voy','Partitionner','code_uic'], axis=1)\n",
    " \n",
    "test = data[data['Partitionner'] == '2-Test']\n",
    "Y_test = test.nb_voy\n",
    "X_test = test.drop(['nb_voy','Partitionner','code_uic'], axis=1)"
   ]
  },
  {
   "cell_type": "markdown",
   "metadata": {},
   "source": [
    "## 2.2 Ramdom Forest"
   ]
  },
  {
   "cell_type": "markdown",
   "metadata": {},
   "source": [
    "Initialisation de nos paramètres et sélectionde la méthode de régression :"
   ]
  },
  {
   "cell_type": "code",
   "execution_count": 13,
   "metadata": {},
   "outputs": [
    {
     "name": "stdout",
     "output_type": "stream",
     "text": [
      "Fitting 3 folds for each of 800 candidates, totalling 2400 fits\n"
     ]
    },
    {
     "name": "stderr",
     "output_type": "stream",
     "text": [
      "[Parallel(n_jobs=-1)]: Done  18 tasks      | elapsed:    1.6s\n",
      "[Parallel(n_jobs=-1)]: Done 168 tasks      | elapsed:   13.1s\n",
      "[Parallel(n_jobs=-1)]: Done 418 tasks      | elapsed:   32.5s\n",
      "[Parallel(n_jobs=-1)]: Done 768 tasks      | elapsed:   59.4s\n",
      "[Parallel(n_jobs=-1)]: Done 1218 tasks      | elapsed:  1.6min\n",
      "[Parallel(n_jobs=-1)]: Done 1768 tasks      | elapsed:  2.3min\n",
      "[Parallel(n_jobs=-1)]: Done 2400 out of 2400 | elapsed:  3.1min finished\n"
     ]
    }
   ],
   "source": [
    "forest = RandomForestClassifier(n_estimators=500,criterion=\"gini\", max_depth=2,min_samples_split=2, min_samples_leaf=1,max_features=\"auto\", max_leaf_nodes=None,bootstrap=True, oob_score=True)\n",
    "\n",
    "forest.fit(X_train, Y_train)\n",
    "\n",
    "n_estimators = [100, 300, 500, 800, 1200]\n",
    "max_depth = [2,3,4,5, 8, 15, 25, 30]\n",
    "min_samples_split = [2, 5, 10, 15, 100]\n",
    "min_samples_leaf = [1, 2, 5, 10] \n",
    "\n",
    "hyperF = dict(n_estimators = n_estimators, max_depth = max_depth, min_samples_split = min_samples_split, min_samples_leaf = min_samples_leaf)\n",
    "\n",
    "gridF = GridSearchCV(forest, hyperF, cv = 3, verbose = 1, n_jobs = -1)\n",
    "bestF = gridF.fit(X_train, Y_train)"
   ]
  },
  {
   "cell_type": "code",
   "execution_count": 14,
   "metadata": {},
   "outputs": [
    {
     "name": "stdout",
     "output_type": "stream",
     "text": [
      "Fiabilité de notre score en moyenne : 0.5523809523809524\n",
      "Nous obtenons un score plutôt moyen, cela indique que nos indicateurs expliquent partiellement nos données\n"
     ]
    },
    {
     "data": {
      "image/png": "[encoded data removed]",
      "text/plain": [
       "<Figure size 432x288 with 2 Axes>"
      ]
     },
     "metadata": {},
     "output_type": "display_data"
    }
   ],
   "source": [
    "predicted = bestF.predict(X_test)\n",
    "accuracy = accuracy_score(Y_test, predicted)\n",
    "print(f'Fiabilité de notre score en moyenne : {accuracy}')\n",
    "\n",
    "matrice = pd.DataFrame(confusion_matrix(Y_test, predicted),columns=['entre  1000 et 5000 ','entre  300 et 1000','entre  5000 et 15000 ','moins de 300','plus de 15000'],index=['entre  1000 et 5000 ','entre  300 et 1000','entre  5000 et 15000 ','moins de 300','plus de 15000'])\n",
    "sns.heatmap(matrice, annot=True)\n",
    "\n",
    "print('Nous obtenons un score plutôt moyen, cela indique que nos indicateurs expliquent partiellement nos données')"
   ]
  },
  {
   "cell_type": "markdown",
   "metadata": {},
   "source": [
    "Vérification de nos données :"
   ]
  },
  {
   "cell_type": "code",
   "execution_count": 19,
   "metadata": {},
   "outputs": [
    {
     "name": "stdout",
     "output_type": "stream",
     "text": [
      "Comptage des valeurs pour nos données\n",
      "_____________________________________________________________________________________\n",
      "Y_train :\n",
      "3    99\n",
      "4    65\n",
      "2    48\n",
      "1    35\n",
      "5    30\n",
      "Name: nb_voy, dtype: int64\n",
      "_____________________________________________________________________________________\n",
      "Y_test :\n",
      "3    34\n",
      "4    24\n",
      "2    19\n",
      "1    17\n",
      "5    11\n",
      "Name: nb_voy, dtype: int64\n",
      "_____________________________________________________________________________________\n",
      "X_train :\n",
      "Nb_equipemt  Type_Achi  Nb_Lignes  Nb_Moy_Transp  P11_POP  Salarie  ratio_emp\n",
      "1.0          -0.899646  1.0        1.0            45010.0  19664    0.844383     3\n",
      "4.0           2.229987  2.0        2.0            58341.0  34755    5.849041     2\n",
      "1.0          -0.899646  1.0        1.0            11980.0  1300     1.957831     2\n",
      "0.0          -0.899646  1.0        1.0            12909.0  2471     10.790393    2\n",
      "1.0          -0.899646  1.0        1.0            28368.0  4531     0.177603     2\n",
      "                                                                                ..\n",
      "3.0          -0.899646  1.0        1.0            9092.0   3049     0.121305     1\n",
      "                                                  5882.0   710      2.358804     1\n",
      "2.0           3.658109  3.0        2.0            44683.0  96295    1.489966     1\n",
      "                        2.0        1.0            46876.0  31155    0.348194     1\n",
      "0.0          -0.899646  1.0        1.0            408.0    184      0.536443     1\n",
      "Length: 263, dtype: int64\n",
      "_____________________________________________________________________________________\n",
      "X_test :\n",
      "Nb_equipemt  Type_Achi  Nb_Lignes  Nb_Moy_Transp  P11_POP   Salarie  ratio_emp\n",
      "2.0          -0.899646  1.0        1.0            27304.0   5149     0.211893     2\n",
      "4.0           6.787741  1.0        1.0            104282.0  29502    1.083756     1\n",
      "1.0          -0.899646  1.0        1.0            31129.0   7071     2.507447     1\n",
      "                                                  5534.0    2087     2.935302     1\n",
      "                                                  5681.0    25843    0.812801     1\n",
      "                                                                                 ..\n",
      "3.0           0.528476  1.0        1.0            238395.0  136402   0.572168     1\n",
      "                        2.0        1.0            43006.0   25773    3.953520     1\n",
      "                                   2.0            15723.0   4149     12.275148    1\n",
      "              1.379231  1.0        1.0            85102.0   31319    1.082691     1\n",
      "0.0          -0.899646  1.0        1.0            400.0     26       0.001948     1\n",
      "Length: 104, dtype: int64\n",
      "_____________________________________________________________________________________\n"
     ]
    }
   ],
   "source": [
    "print('Comptage des valeurs pour nos données')\n",
    "print('_____________________________________________________________________________________')\n",
    "print('Y_train :')\n",
    "print(Y_train.value_counts())\n",
    "print('_____________________________________________________________________________________')\n",
    "print('Y_test :')\n",
    "print(Y_test.value_counts())\n",
    "print('_____________________________________________________________________________________')\n",
    "print('X_train :')\n",
    "print(X_train.value_counts())\n",
    "print('_____________________________________________________________________________________')\n",
    "print('X_test :')\n",
    "print(X_test.value_counts())\n",
    "print('_____________________________________________________________________________________')"
   ]
  },
  {
   "cell_type": "code",
   "execution_count": 20,
   "metadata": {},
   "outputs": [
    {
     "data": {
      "text/plain": [
       "P11_POP          0.261246\n",
       "Type_Achi        0.226807\n",
       "Nb_equipemt      0.220239\n",
       "Salarie          0.208911\n",
       "ratio_emp        0.047906\n",
       "Nb_Lignes        0.027688\n",
       "Nb_Moy_Transp    0.007203\n",
       "dtype: float64"
      ]
     },
     "execution_count": 20,
     "metadata": {},
     "output_type": "execute_result"
    }
   ],
   "source": [
    "feature_imp = pd.Series(forest.feature_importances_, index= X_train.keys()).sort_values(ascending= False)\n",
    "feature_imp"
   ]
  },
  {
   "cell_type": "code",
   "execution_count": 21,
   "metadata": {},
   "outputs": [
    {
     "data": {
      "text/plain": [
       "1.0000000000000002"
      ]
     },
     "execution_count": 21,
     "metadata": {},
     "output_type": "execute_result"
    }
   ],
   "source": [
    "feature_imp.sum()"
   ]
  },
  {
   "cell_type": "code",
   "execution_count": 22,
   "metadata": {},
   "outputs": [
    {
     "data": {
      "image/png": "[encoded data removed]",
      "text/plain": [
       "<Figure size 432x288 with 1 Axes>"
      ]
     },
     "metadata": {},
     "output_type": "display_data"
    }
   ],
   "source": [
    "sns.barplot(x=feature_imp, y=feature_imp.index)\n",
    "plt.xlabel('Score des variables')\n",
    "plt.ylabel('Variables')\n",
    "plt.title(\"Importance des variables\")\n",
    "\n",
    "plt.show()"
   ]
  },
  {
   "cell_type": "code",
   "execution_count": 25,
   "metadata": {},
   "outputs": [
    {
     "name": "stdout",
     "output_type": "stream",
     "text": [
      "Indicateurs de notre méthode :\n",
      "_________________________________________________________________\n",
      "Matrice de confusion :\n",
      "[[13  3  1  0  0]\n",
      " [ 2  6 10  1  0]\n",
      " [ 1  4 21  7  1]\n",
      " [ 0  0  7 14  3]\n",
      " [ 0  0  1  6  4]]\n",
      "_________________________________________________________________\n",
      "Rapport de classifications :\n",
      "             precision    recall  f1-score   support\n",
      "\n",
      "          1       0.81      0.76      0.79        17\n",
      "          2       0.46      0.32      0.37        19\n",
      "          3       0.53      0.62      0.57        34\n",
      "          4       0.50      0.58      0.54        24\n",
      "          5       0.50      0.36      0.42        11\n",
      "\n",
      "avg / total       0.55      0.55      0.55       105\n",
      "\n",
      "_________________________________________________________________\n",
      "Précision /1:\n",
      "0.5523809523809524\n",
      "_________________________________________________________________\n"
     ]
    }
   ],
   "source": [
    "print('Indicateurs de notre méthode :')\n",
    "print('_________________________________________________________________')\n",
    "print('Matrice de confusion :')\n",
    "print(confusion_matrix(Y_test,predicted))\n",
    "print('_________________________________________________________________')\n",
    "print('Rapport de classifications :')\n",
    "print(classification_report(Y_test,predicted))\n",
    "print('_________________________________________________________________')\n",
    "print('Précision /1:')\n",
    "print(accuracy_score(Y_test,predicted))\n",
    "print('_________________________________________________________________')"
   ]
  },
  {
   "cell_type": "code",
   "execution_count": null,
   "metadata": {},
   "outputs": [],
   "source": []
  }
 ],
 "metadata": {
  "kernelspec": {
   "display_name": "Python 3",
   "language": "python",
   "name": "python3"
  },
  "language_info": {
   "codemirror_mode": {
    "name": "ipython",
    "version": 3
   },
   "file_extension": ".py",
   "mimetype": "text/x-python",
   "name": "python",
   "nbconvert_exporter": "python",
   "pygments_lexer": "ipython3",
   "version": "3.6.3"
  }
 },
 "nbformat": 4,
 "nbformat_minor": 2
}

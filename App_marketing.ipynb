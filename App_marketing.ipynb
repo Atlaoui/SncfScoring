{
 "cells": [
  {
   "cell_type": "markdown",
   "metadata": {},
   "source": [
    "# M2 MIASHS - Applications marketing\n",
    "## Projet Scoring\n",
    "# Somaire\n",
    "- [1. Datamanagement](#sect1)\n",
    "    - [1.1. Import des données](#sect11)\n",
    "    - [1.2. Aperçu des données](#sect12)\n",
    "    - [1.3. Manipulation d'un dataframe](#sect13)\n",
    "    - [1.4. Gestion des données manquantes](#sect14)\n",
    "    - [1.5. Gestion des types](#sect15)\n",
    "    - [1.6. Jointure](#sect16)\n",
    "- [2. Analyse](#sect2)\n",
    "    - [2.1. Qui sont les passagers du titanic](#sect21)\n",
    "    - [2.2. Y-a-t-il un lien entre le nombre de voyageurs et la mise à disposition de guichet PMR ?](#sect22)"
   ]
  },
  {
   "cell_type": "markdown",
   "metadata": {},
   "source": [
    "## 1. <a name=\"sect1\"></a>Datamanagement\n",
    "### 1.1. <a name=\"sect11\"></a>Import des packages, des fonctions et des données\n",
    "*Les modules à charger*"
   ]
  },
  {
   "cell_type": "code",
   "execution_count": 1,
   "metadata": {},
   "outputs": [],
   "source": [
    "%matplotlib inline\n",
    "import pandas as pd"
   ]
  },
  {
   "cell_type": "markdown",
   "metadata": {},
   "source": [
    "*Les fonctions créées*"
   ]
  },
  {
   "cell_type": "code",
   "execution_count": null,
   "metadata": {},
   "outputs": [],
   "source": []
  },
  {
   "cell_type": "markdown",
   "metadata": {},
   "source": [
    "*Les données*"
   ]
  },
  {
   "cell_type": "code",
   "execution_count": 90,
   "metadata": {},
   "outputs": [],
   "source": [
    "base_gares = pd.read_csv('Data/base_gares.csv',sep = ';')\n",
    "sncf_adresse = pd.read_csv('Data/data_sncf/sncf-gares-et-arrets-transilien-ile-de-france.csv',sep = ';')\n",
    "sncf_equipements = pd.read_csv('Data/data_sncf/sncf-accessibilite-des-gares-equipements.csv',sep = ';')\n",
    "sncf_arret = pd.read_csv('Data/data_sncf/lignes_points_arret.csv', sep = ';')"
   ]
  },
  {
   "cell_type": "markdown",
   "metadata": {},
   "source": [
    "### <a name=\"sect12\"></a>1.2. Aperçu des données : sncf_equipements"
   ]
  },
  {
   "cell_type": "code",
   "execution_count": 1,
   "metadata": {},
   "outputs": [],
   "source": [
    "# Afficher le type de l'objet sncf_equipements avec la fonction type\n",
    "..."
   ]
  },
  {
   "cell_type": "code",
   "execution_count": 2,
   "metadata": {},
   "outputs": [],
   "source": [
    "# Afficher le nombre de columns en utilisant l'attribut columns\n",
    "..."
   ]
  },
  {
   "cell_type": "code",
   "execution_count": 3,
   "metadata": {},
   "outputs": [],
   "source": [
    "# Afficher les dimensions de la table en utilisant l'attribut shape\n",
    "..."
   ]
  },
  {
   "cell_type": "code",
   "execution_count": 4,
   "metadata": {},
   "outputs": [],
   "source": [
    "# Afficher les 7 premières lignes en utilisant la méthode head\n",
    "..."
   ]
  },
  {
   "cell_type": "code",
   "execution_count": 5,
   "metadata": {},
   "outputs": [],
   "source": [
    "# Afficher les 8 dernières lignes en utilisant la méthode tail\n",
    "..."
   ]
  },
  {
   "cell_type": "code",
   "execution_count": 6,
   "metadata": {},
   "outputs": [],
   "source": [
    "# Afficher les informations globales avec la méthode info\n",
    "..."
   ]
  },
  {
   "cell_type": "code",
   "execution_count": 7,
   "metadata": {},
   "outputs": [],
   "source": [
    "# Afficher le type de chaque colonne en utilisant l'attribut dtypes\n",
    "..."
   ]
  },
  {
   "cell_type": "code",
   "execution_count": 8,
   "metadata": {},
   "outputs": [],
   "source": [
    "# Afficher les statistiques générales avec la méthode describe pour TOUTES les variables\n",
    "..."
   ]
  },
  {
   "cell_type": "markdown",
   "metadata": {},
   "source": [
    "### <a name=\"sect13\"></a>1.3. Manipulation d'un dataframe"
   ]
  },
  {
   "cell_type": "code",
   "execution_count": 9,
   "metadata": {},
   "outputs": [],
   "source": [
    "# Selection la 3ème ligne en utilisant iloc\n",
    "..."
   ]
  },
  {
   "cell_type": "code",
   "execution_count": 10,
   "metadata": {},
   "outputs": [],
   "source": [
    "# Selectionner la 3ème ligne en utilisant loc\n",
    "..."
   ]
  },
  {
   "cell_type": "code",
   "execution_count": 11,
   "metadata": {},
   "outputs": [],
   "source": [
    "# Selectionner la colonne 'gare' en utilisant iloc\n",
    "..."
   ]
  },
  {
   "cell_type": "code",
   "execution_count": 12,
   "metadata": {},
   "outputs": [],
   "source": [
    "# Selectionner la colonne 'gare' en utilisant loc\n",
    "..."
   ]
  },
  {
   "cell_type": "code",
   "execution_count": 13,
   "metadata": {},
   "outputs": [],
   "source": [
    "# Selectionner la 3ème et la 10ème ligne et les colonnes 'gare' et 'ascenceurs' avec iloc\n",
    "..."
   ]
  },
  {
   "cell_type": "code",
   "execution_count": 14,
   "metadata": {},
   "outputs": [],
   "source": [
    "# Selectionner la 3ème et la 10ème ligne et les colonnes 'gare' et 'ascenceurs' avec loc\n",
    "..."
   ]
  },
  {
   "cell_type": "code",
   "execution_count": 15,
   "metadata": {},
   "outputs": [],
   "source": [
    "# Selectionner de la 1ère à la 5ème ligne et les 3 dernières colonnes en utilisant iloc\n",
    "..."
   ]
  },
  {
   "cell_type": "code",
   "execution_count": 16,
   "metadata": {},
   "outputs": [],
   "source": [
    "# Selectionner de la 1ère à la 5ème colonne et les 3 dernières colonnes en utilisant loc\n",
    "..."
   ]
  },
  {
   "cell_type": "code",
   "execution_count": 17,
   "metadata": {},
   "outputs": [],
   "source": [
    "# Afficher uniquement la colonne \"gare\"\n",
    "..."
   ]
  },
  {
   "cell_type": "code",
   "execution_count": 18,
   "metadata": {},
   "outputs": [],
   "source": [
    "# Afficher les colonnes \"gare\" et \"ascenceurs\"\n",
    "..."
   ]
  },
  {
   "cell_type": "markdown",
   "metadata": {},
   "source": [
    "### <a name=\"sect14\"></a>1.4. Gestion des données manquantes"
   ]
  },
  {
   "cell_type": "code",
   "execution_count": 19,
   "metadata": {},
   "outputs": [],
   "source": [
    "# Remplacer les valeurs manquantes de sncf_equipements par -1\n",
    "..."
   ]
  },
  {
   "cell_type": "markdown",
   "metadata": {},
   "source": [
    "### <a name=\"sect15\"></a>1.5. Gestion des types"
   ]
  },
  {
   "cell_type": "code",
   "execution_count": 20,
   "metadata": {},
   "outputs": [],
   "source": [
    "# Convertir les colonnes en category en utilisant la méthode astype\n",
    "..."
   ]
  },
  {
   "cell_type": "markdown",
   "metadata": {},
   "source": [
    "### <a name=\"sect16\"></a>1.6. Jointure"
   ]
  },
  {
   "cell_type": "code",
   "execution_count": 21,
   "metadata": {},
   "outputs": [],
   "source": [
    "# Ajouter les informations contenues dans sncf_equipements à la base_gares en utilisant la méthode merge\n",
    "..."
   ]
  },
  {
   "cell_type": "markdown",
   "metadata": {},
   "source": [
    "## <a name=\"sect2\"></a>2. Analyse\n",
    "### <a name=\"sect21\"></a>2.1. Quelle est la répartition des échantillons d'apprentissage et test ?"
   ]
  },
  {
   "cell_type": "code",
   "execution_count": 22,
   "metadata": {},
   "outputs": [],
   "source": [
    "# Regarder la répartition en % de la variable Partitionner en utilisant la méthode value_counts\n",
    "..."
   ]
  },
  {
   "cell_type": "code",
   "execution_count": 23,
   "metadata": {},
   "outputs": [],
   "source": [
    "# Regarder la répartition en % de la variable Partitionner selon la variable cible nombre_de_voyageurs_montant en utilisant la fonction crosstab\n",
    "..."
   ]
  },
  {
   "cell_type": "markdown",
   "metadata": {},
   "source": [
    "### <a name=\"sect22\"></a>2.2. Y-a-t-il un lien entre le nombre de voyageurs et la mise à disposition de guichet PMR ?"
   ]
  },
  {
   "cell_type": "code",
   "execution_count": 24,
   "metadata": {},
   "outputs": [],
   "source": [
    "# Regarder la répartition en % entre le nombre de voyageurs et les guichet PMR en utilisant la méthode crosstab\n",
    "..."
   ]
  }
 ],
 "metadata": {
  "kernelspec": {
   "display_name": "Python 3",
   "language": "python",
   "name": "python3"
  },
  "language_info": {
   "codemirror_mode": {
    "name": "ipython",
    "version": 3
   },
   "file_extension": ".py",
   "mimetype": "text/x-python",
   "name": "python",
   "nbconvert_exporter": "python",
   "pygments_lexer": "ipython3",
   "version": "3.6.3"
  }
 },
 "nbformat": 4,
 "nbformat_minor": 2
}
